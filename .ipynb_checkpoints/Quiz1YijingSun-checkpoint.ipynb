{
 "cells": [
  {
   "cell_type": "markdown",
   "id": "8d3a4d41-954a-4d5e-8cb3-24b45c80cd42",
   "metadata": {},
   "source": [
    "Yijing Sun Quiz 1"
   ]
  },
  {
   "cell_type": "code",
   "execution_count": 12,
   "id": "9a42c40f-344e-4fae-93f7-0ba417b9b1f7",
   "metadata": {},
   "outputs": [
    {
     "name": "stdout",
     "output_type": "stream",
     "text": [
      "['cat1', 'cat1', 'cat1', 'cat2']\n"
     ]
    }
   ],
   "source": [
    "#Question 1\n",
    "#The append() function adds a single element to the end of the list.\n",
    "\n",
    "list_1 = ['cat1', 'cat1', 'cat1']\n",
    "list_1.append( 'cat2')\n",
    "print(list_1)\n"
   ]
  },
  {
   "cell_type": "code",
   "execution_count": 13,
   "id": "14c4f92b-c804-4125-8800-43749e9bcb58",
   "metadata": {},
   "outputs": [
    {
     "name": "stdout",
     "output_type": "stream",
     "text": [
      "[]\n"
     ]
    }
   ],
   "source": [
    "#Question 2\n",
    "#The clear function cleans the list. \n",
    "\n",
    "list_2 = ['cat1', 'cat1', 'cat1']\n",
    "list_2.clear()\n",
    "print(list_2)"
   ]
  },
  {
   "cell_type": "code",
   "execution_count": 15,
   "id": "94373fa8-a20e-4aca-aa96-7eadfa77e292",
   "metadata": {},
   "outputs": [
    {
     "name": "stdout",
     "output_type": "stream",
     "text": [
      "['cat1', 'cat1', 'cat1']\n"
     ]
    }
   ],
   "source": [
    "#Question 3\n",
    "#The copy function makes a shallow copy from the original list.\n",
    "\n",
    "list_3 = ['cat1', 'cat1', 'cat1']\n",
    "list_3A = list_3.copy()\n",
    "print(list_3A)"
   ]
  },
  {
   "cell_type": "code",
   "execution_count": 16,
   "id": "c9c7457f-01cd-4f7b-b02d-c9e09f29ce2f",
   "metadata": {},
   "outputs": [
    {
     "data": {
      "text/plain": [
       "2"
      ]
     },
     "execution_count": 16,
     "metadata": {},
     "output_type": "execute_result"
    }
   ],
   "source": [
    "#Question 4\n",
    "#The count function counts occurrences of an item in the list. in a particular list. \n",
    "\n",
    "list_4 = ['cat1', 'cat1', 'cat2']\n",
    "list_4.count('cat1')"
   ]
  },
  {
   "cell_type": "code",
   "execution_count": 17,
   "id": "f302ee12-bea9-488d-84cc-7fb8db9b812b",
   "metadata": {},
   "outputs": [
    {
     "data": {
      "text/plain": [
       "2"
      ]
     },
     "execution_count": 17,
     "metadata": {},
     "output_type": "execute_result"
    }
   ],
   "source": [
    "#Question 5\n",
    "#The index function finds the idnex of the first occurrences of an item.\n",
    "\n",
    "list_5 = ['cat1', 'cat1', 'cat2']\n",
    "list_5.index('cat2')"
   ]
  },
  {
   "cell_type": "code",
   "execution_count": 18,
   "id": "b642b8f3-7df0-4d83-af54-e89abbce3e39",
   "metadata": {},
   "outputs": [
    {
     "name": "stdout",
     "output_type": "stream",
     "text": [
      "['cat1', 'cat2', 'cat1', 'cat2']\n"
     ]
    }
   ],
   "source": [
    "#Question 6\n",
    "#The insert function allows to insert an item at a specific position.\n",
    "\n",
    "list_6 = ['cat1', 'cat1', 'cat2']\n",
    "list_6.insert(1, 'cat2')\n",
    "print(list_6)"
   ]
  },
  {
   "cell_type": "code",
   "execution_count": 24,
   "id": "e664244f-2716-4641-b870-e6569bd93886",
   "metadata": {},
   "outputs": [
    {
     "name": "stdout",
     "output_type": "stream",
     "text": [
      "cat2\n",
      "['cat1', 'cat1']\n"
     ]
    }
   ],
   "source": [
    "#Question 7\n",
    "#The pop function removes and returns the item at a specific position.\n",
    "\n",
    "list_7 = ['cat1', 'cat1', 'cat2']\n",
    "print(list_7.pop(2))\n",
    "print(list_7)"
   ]
  },
  {
   "cell_type": "code",
   "execution_count": 21,
   "id": "b6abaee4-ef8f-43d0-a5bd-8cce6a280ec6",
   "metadata": {},
   "outputs": [
    {
     "name": "stdout",
     "output_type": "stream",
     "text": [
      "['cat1', 'cat1']\n"
     ]
    }
   ],
   "source": [
    "#Question 8\n",
    "#The remove function removes the first occurrence of an item.\n",
    "\n",
    "list_8 = ['cat1', 'cat1', 'cat2']\n",
    "list_8.remove('cat2')\n",
    "print(list_8)"
   ]
  },
  {
   "cell_type": "code",
   "execution_count": 22,
   "id": "d0ac544e-3cfa-46a3-b2ad-beb4c97f3261",
   "metadata": {},
   "outputs": [
    {
     "name": "stdout",
     "output_type": "stream",
     "text": [
      "['cat2', 'cat1', 'cat1']\n"
     ]
    }
   ],
   "source": [
    "#Question 9\n",
    "#The reverse function reverses the order of the list.\n",
    "\n",
    "list_9 = ['cat1', 'cat1', 'cat2']\n",
    "list_9.reverse()\n",
    "print(list_9)"
   ]
  }
 ],
 "metadata": {
  "kernelspec": {
   "display_name": "Python 3 (ipykernel)",
   "language": "python",
   "name": "python3"
  },
  "language_info": {
   "codemirror_mode": {
    "name": "ipython",
    "version": 3
   },
   "file_extension": ".py",
   "mimetype": "text/x-python",
   "name": "python",
   "nbconvert_exporter": "python",
   "pygments_lexer": "ipython3",
   "version": "3.13.7"
  }
 },
 "nbformat": 4,
 "nbformat_minor": 5
}
